{
  "nbformat": 4,
  "nbformat_minor": 0,
  "metadata": {
    "colab": {
      "name": "Emotion Recogniton",
      "provenance": [],
      "collapsed_sections": [],
      "mount_file_id": "14gP2NsS--yc5qgLGGWXBtDKNXtgRS_tO",
      "authorship_tag": "ABX9TyM2SX5t6Ectj87PHdm/DmX6",
      "include_colab_link": true
    },
    "kernelspec": {
      "name": "python3",
      "display_name": "Python 3"
    },
    "language_info": {
      "name": "python"
    },
    "accelerator": "GPU"
  },
  "cells": [
    {
      "cell_type": "markdown",
      "metadata": {
        "id": "view-in-github",
        "colab_type": "text"
      },
      "source": [
        "<a href=\"https://colab.research.google.com/github/Alice751/MNIST/blob/master/Emotion_Recogniton.ipynb\" target=\"_parent\"><img src=\"https://colab.research.google.com/assets/colab-badge.svg\" alt=\"Open In Colab\"/></a>"
      ]
    },
    {
      "cell_type": "code",
      "metadata": {
        "id": "vwZEEPwJT2RC"
      },
      "source": [
        "import torch.optim as optim\n",
        "import torch\n",
        "import torch.nn as nn\n",
        "import torch.nn.parallel\n",
        "import torch.optim\n",
        "import torch.utils.data\n",
        "import torch.utils.data.distributed\n",
        "import torchvision.transforms as transforms\n",
        "import torchvision.datasets as datasets\n",
        "import torchvision.models\n",
        "from torch.autograd import Variable\n",
        "import torch.utils.data.distributed\n",
        "import torchvision.transforms as transforms\n",
        "import os\n",
        "from PIL import Image\n",
        "import pandas as pd"
      ],
      "execution_count": null,
      "outputs": []
    },
    {
      "cell_type": "code",
      "metadata": {
        "colab": {
          "base_uri": "https://localhost:8080/"
        },
        "id": "EIl1hKrJ47S1",
        "outputId": "1d544d0c-ed1f-463c-a052-f660e9ec1dbe"
      },
      "source": [
        "!nvidia-smi"
      ],
      "execution_count": null,
      "outputs": [
        {
          "output_type": "stream",
          "name": "stdout",
          "text": [
            "Wed Sep  8 11:14:50 2021       \n",
            "+-----------------------------------------------------------------------------+\n",
            "| NVIDIA-SMI 470.63.01    Driver Version: 460.32.03    CUDA Version: 11.2     |\n",
            "|-------------------------------+----------------------+----------------------+\n",
            "| GPU  Name        Persistence-M| Bus-Id        Disp.A | Volatile Uncorr. ECC |\n",
            "| Fan  Temp  Perf  Pwr:Usage/Cap|         Memory-Usage | GPU-Util  Compute M. |\n",
            "|                               |                      |               MIG M. |\n",
            "|===============================+======================+======================|\n",
            "|   0  Tesla K80           Off  | 00000000:00:04.0 Off |                    0 |\n",
            "| N/A   47C    P8    28W / 149W |      0MiB / 11441MiB |      0%      Default |\n",
            "|                               |                      |                  N/A |\n",
            "+-------------------------------+----------------------+----------------------+\n",
            "                                                                               \n",
            "+-----------------------------------------------------------------------------+\n",
            "| Processes:                                                                  |\n",
            "|  GPU   GI   CI        PID   Type   Process name                  GPU Memory |\n",
            "|        ID   ID                                                   Usage      |\n",
            "|=============================================================================|\n",
            "|  No running processes found                                                 |\n",
            "+-----------------------------------------------------------------------------+\n"
          ]
        }
      ]
    },
    {
      "cell_type": "code",
      "metadata": {
        "id": "iUL_GFirWycD"
      },
      "source": [
        "pth_path = '/content/drive/MyDrive/data/backbone_ir50_ms1m_epoch63.pth'\n",
        "\n",
        "train_path = '/content/drive/MyDrive/data/train/african/'\n",
        "test_path = '/content/drive/MyDrive/data/test/african/'\n",
        "val_path = '/content/drive/MyDrive/data/val/african/tests/'\n",
        "model_path_base = '/content/drive/MyDrive/data/models/african/'\n",
        "model_name = 'afr-resnet50-4emo.pth'"
      ],
      "execution_count": null,
      "outputs": []
    },
    {
      "cell_type": "markdown",
      "metadata": {
        "id": "1JiEELffWqUD"
      },
      "source": [
        "# Train"
      ]
    },
    {
      "cell_type": "code",
      "metadata": {
        "id": "BDKdl1GzUkkd"
      },
      "source": [
        "BATCH_SIZE = 8\n",
        "EPOCHS = 50\n",
        "DEVICE = torch.device('cuda' if torch.cuda.is_available() else 'cpu')"
      ],
      "execution_count": null,
      "outputs": []
    },
    {
      "cell_type": "code",
      "metadata": {
        "id": "GQwEulmpVtP3"
      },
      "source": [
        "def adjust_learning_rate(optimizer, epoch):\n",
        "    \"\"\"Sets the learning rate to the initial LR decayed by 10 every 30 epochs\"\"\"\n",
        "    modellrnew = modellr * (0.1 ** (epoch // 50))\n",
        "    print(\"lr:\", modellrnew)\n",
        "    for param_group in optimizer.param_groups:\n",
        "        param_group['lr'] = modellrnew\n",
        "\n",
        "def train(model, device, train_loader, optimizer, epoch):\n",
        "    model.train()\n",
        "    sum_loss = 0\n",
        "    total_num = len(train_loader.dataset)\n",
        "    print(total_num, len(train_loader))\n",
        "    for batch_idx, (data, target) in enumerate(train_loader):\n",
        "        data, target = Variable(data).to(device), Variable(target).to(device)\n",
        "        output = model(data)\n",
        "        loss = criterion(output, target)\n",
        "        optimizer.zero_grad()\n",
        "        loss.backward()\n",
        "        optimizer.step()\n",
        "        print_loss = loss.data.item()\n",
        "        sum_loss += print_loss\n",
        "        if (batch_idx + 1) % 50 == 0:\n",
        "            print('Train Epoch: {} [{}/{} ({:.0f}%)]\\tLoss: {:.6f}'.format(\n",
        "                epoch, (batch_idx + 1) * len(data), len(train_loader.dataset),\n",
        "                       100. * (batch_idx + 1) / len(train_loader), loss.item()))\n",
        "    ave_loss = sum_loss / len(train_loader)\n",
        "    print('epoch:{},loss:{}'.format(epoch, ave_loss))\n",
        "\n",
        "def val(model, device, test_loader):\n",
        "  model.eval()\n",
        "  test_loss = 0\n",
        "  correct = 0\n",
        "  total_num = len(test_loader.dataset)\n",
        "  print(total_num, len(test_loader))\n",
        "  with torch.no_grad():\n",
        "      for data, target in test_loader:\n",
        "        data, target = Variable(data).to(device), Variable(target).to(device)\n",
        "        output = model(data)\n",
        "        loss = criterion(output, target)\n",
        "        _, pred = torch.max(output.data, 1)\n",
        "        correct += torch.sum(pred == target)\n",
        "        print_loss = loss.data.item()\n",
        "        test_loss += print_loss\n",
        "        \n",
        "      correct = correct.data.item()\n",
        "      acc = correct / total_num\n",
        "      avgloss = test_loss / len(test_loader)\n",
        "      print('\\nVal set: Average loss: {:.4f}, Accuracy: {}/{} ({:.0f}%)\\n'.format(\n",
        "            avgloss, correct, len(test_loader.dataset), 100 * acc)) "
      ],
      "execution_count": null,
      "outputs": []
    },
    {
      "cell_type": "code",
      "metadata": {
        "id": "o0XN8dHhUbqm"
      },
      "source": [
        " transform = transforms.Compose([\n",
        "    transforms.ToTensor(),\n",
        "    transforms.Normalize([0.5, 0.5, 0.5], [0.5, 0.5, 0.5])\n",
        " \n",
        "])\n",
        " \n",
        "transform_test = transforms.Compose([\n",
        "    transforms.ToTensor(),\n",
        "    transforms.Normalize([0.5, 0.5, 0.5], [0.5, 0.5, 0.5])\n",
        "])\n",
        "\n",
        "dataset_train = datasets.ImageFolder(train_path, transform)\n",
        "dataset_test = datasets.ImageFolder(test_path, transform_test)\n",
        " \n",
        "train_loader = torch.utils.data.DataLoader(dataset_train, batch_size=BATCH_SIZE, shuffle=True)\n",
        "test_loader = torch.utils.data.DataLoader(dataset_test, batch_size=BATCH_SIZE, shuffle=False)\n",
        "modellr = 0.0001\n",
        "# pthfile = r'backbone_ir50_ms1m_epoch63.pth'\n",
        "\n",
        "criterion = nn.CrossEntropyLoss()\n",
        "model = torchvision.models.resnet50(pretrained=False)\n",
        "model.load_state_dict(torch.load(pth_path),False)\n",
        "num_ftrs = model.fc.in_features\n",
        "model.fc = nn.Linear(num_ftrs, 4)\n",
        "model.to(DEVICE)\n",
        "\n",
        "optimizer = optim.Adam(model.parameters(), lr=modellr)"
      ],
      "execution_count": null,
      "outputs": []
    },
    {
      "cell_type": "code",
      "metadata": {
        "id": "c3ylo8lCWEfF"
      },
      "source": [
        "for epoch in range(1, EPOCHS + 1):\n",
        "  adjust_learning_rate(optimizer, epoch)\n",
        "  train(model, DEVICE, train_loader, optimizer, epoch)\n",
        "  val(model, DEVICE, test_loader)\n",
        "  torch.save(model, model_path_base+model_name)"
      ],
      "execution_count": null,
      "outputs": []
    },
    {
      "cell_type": "markdown",
      "metadata": {
        "id": "O5Vt4fV4_ci9"
      },
      "source": [
        "# Test"
      ]
    },
    {
      "cell_type": "code",
      "metadata": {
        "colab": {
          "base_uri": "https://localhost:8080/",
          "height": 206
        },
        "id": "5gLwuryxCw9Q",
        "outputId": "fa928a0b-513f-48a8-a706-0db61a3c0da6"
      },
      "source": [
        "import pandas as pd\n",
        "base_path = '/content/drive/MyDrive/data/all/african/'\n",
        "label_path = '/content/drive/MyDrive/data/csvs/african/test_african_0.2.csv'\n",
        "df = pd.read_csv(label_path,header=None)\n",
        "df.head()"
      ],
      "execution_count": null,
      "outputs": [
        {
          "output_type": "execute_result",
          "data": {
            "text/html": [
              "<div>\n",
              "<style scoped>\n",
              "    .dataframe tbody tr th:only-of-type {\n",
              "        vertical-align: middle;\n",
              "    }\n",
              "\n",
              "    .dataframe tbody tr th {\n",
              "        vertical-align: top;\n",
              "    }\n",
              "\n",
              "    .dataframe thead th {\n",
              "        text-align: right;\n",
              "    }\n",
              "</style>\n",
              "<table border=\"1\" class=\"dataframe\">\n",
              "  <thead>\n",
              "    <tr style=\"text-align: right;\">\n",
              "      <th></th>\n",
              "      <th>0</th>\n",
              "      <th>1</th>\n",
              "    </tr>\n",
              "  </thead>\n",
              "  <tbody>\n",
              "    <tr>\n",
              "      <th>0</th>\n",
              "      <td>afr_angry_13.jpg</td>\n",
              "      <td>0</td>\n",
              "    </tr>\n",
              "    <tr>\n",
              "      <th>1</th>\n",
              "      <td>afr_neutral_18.jpg</td>\n",
              "      <td>2</td>\n",
              "    </tr>\n",
              "    <tr>\n",
              "      <th>2</th>\n",
              "      <td>afr_neutral_5.jpg</td>\n",
              "      <td>2</td>\n",
              "    </tr>\n",
              "    <tr>\n",
              "      <th>3</th>\n",
              "      <td>afr_angry_31.jpg</td>\n",
              "      <td>0</td>\n",
              "    </tr>\n",
              "    <tr>\n",
              "      <th>4</th>\n",
              "      <td>afr_neutral_39.jpg</td>\n",
              "      <td>2</td>\n",
              "    </tr>\n",
              "  </tbody>\n",
              "</table>\n",
              "</div>"
            ],
            "text/plain": [
              "                    0  1\n",
              "0    afr_angry_13.jpg  0\n",
              "1  afr_neutral_18.jpg  2\n",
              "2   afr_neutral_5.jpg  2\n",
              "3    afr_angry_31.jpg  0\n",
              "4  afr_neutral_39.jpg  2"
            ]
          },
          "metadata": {},
          "execution_count": 30
        }
      ]
    },
    {
      "cell_type": "code",
      "metadata": {
        "id": "9mWYqTpgDgYn"
      },
      "source": [
        "test_imgs = df[0].tolist()\n",
        "labels = df[1].tolist()"
      ],
      "execution_count": null,
      "outputs": []
    },
    {
      "cell_type": "code",
      "metadata": {
        "id": "R-zGeVu6_b7t",
        "colab": {
          "base_uri": "https://localhost:8080/"
        },
        "outputId": "ac04768d-896c-4f66-f8b1-2671af447704"
      },
      "source": [
        "classes = (0,1, 2, 3)\n",
        " \n",
        "transform_test = transforms.Compose([\n",
        "    #transforms.Resize((224, 224)),\n",
        "    transforms.ToTensor(),\n",
        "    transforms.Normalize([0.5, 0.5, 0.5], [0.5, 0.5, 0.5])\n",
        "])\n",
        " \n",
        "DEVICE = torch.device(\"cuda:0\" if torch.cuda.is_available() else \"cpu\")\n",
        "model = torch.load(model_path_base+model_name)\n",
        "model.eval()\n",
        "model.to(DEVICE)\n",
        "i=0\n",
        "n=0\n",
        "path=val_path\n",
        "testList=os.listdir(path)\n",
        "\n",
        "for j,file in enumerate(test_imgs):\n",
        "  f = base_path+file\n",
        "  # print(f)\n",
        "  n=n+1\n",
        "  img=Image.open(f)\n",
        "  img=transform_test(img)\n",
        "  img.unsqueeze_(0)\n",
        "  img = Variable(img).to(DEVICE)\n",
        "  out=model(img)\n",
        "  # Predict\n",
        "  _, pred = torch.max(out.data, 1)\n",
        "  # label = file.split('_')[1]\n",
        "  label = labels[j]\n",
        "  if(label == classes[pred.data.item()]):\n",
        "      i=i+1\n",
        "  # print('Image Name:{}, predict:{}'.format(file,classes[pred.data.item()]))\n",
        "\n",
        "print('Test_Accuracy: {}/{} ({:.0f}%)\\n'.format(i, n, 100 * i/n))"
      ],
      "execution_count": null,
      "outputs": [
        {
          "output_type": "stream",
          "name": "stdout",
          "text": [
            "Test_Accuracy: 37/73 (51%)\n",
            "\n"
          ]
        }
      ]
    }
  ]
}